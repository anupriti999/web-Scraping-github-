{
 "cells": [
  {
   "cell_type": "markdown",
   "id": "aa73ff8d",
   "metadata": {},
   "source": [
    "# Scraping Top Repositories for Topics on Github \n",
    " TODO:\n",
    "- Introduction about web scarping \n",
    "- Introduction about Github and the problem Statement\n",
    "- Mention the tools you're using(python,requests,Beautiful Soup,pandas)"
   ]
  },
  {
   "cell_type": "markdown",
   "id": "a17578d2",
   "metadata": {},
   "source": [
    "Here are the steps we'll  follow:\n",
    "- we're going to scrape https://github.com/topics\n",
    "- we'll get a list of topics. For each topic,we'll get topic tittle ,topic url and topic description\n",
    "- For each topic,we'll get the top 25 reposiories in the topic from the topic page\n",
    "- For each repository, we'll grab the repo name, username, stars and repo URL \n",
    "- For each topic we'll create a CSV file in the following foramt:\n",
    " Repo Name, Username,Stars,Repo URL\n",
    " three.js,mrdoob,69700,https://github.com/mrdoob/three.js\n"
   ]
  },
  {
   "cell_type": "markdown",
   "id": "b24ff5b2",
   "metadata": {},
   "source": [
    "# Scarpe the list of topics from Github\n",
    "Explain how you'll do it.\n",
    "- use requets to download the page \n",
    "- user BS4 to parse and extract information\n",
    "- convert to a pandas data frame \n",
    "\n",
    "let's write a function to download the page"
   ]
  },
  {
   "cell_type": "code",
   "execution_count": 1,
   "id": "02f904d5",
   "metadata": {},
   "outputs": [],
   "source": [
    "import requests\n",
    "from bs4 import BeautifulSoup\n",
    "\n",
    "def get_topics_page():\n",
    "    topics_url='https://github.com/topics'\n",
    "    response=requests.get(topics_url)\n",
    "    if response.status_code!=200:\n",
    "        raise Exception('Failed to load the page{}'.format(topic_url))\n",
    "    doc= BeautifulSoup(response.text,'html.parser')\n",
    "    return doc"
   ]
  },
  {
   "cell_type": "code",
   "execution_count": 2,
   "id": "d3d16e24",
   "metadata": {},
   "outputs": [],
   "source": [
    "doc=get_topics_page()"
   ]
  },
  {
   "cell_type": "code",
   "execution_count": 4,
   "id": "d27ada3a",
   "metadata": {},
   "outputs": [
    {
     "data": {
      "text/plain": [
       "<a class=\"px-2 py-4 color-bg-accent-emphasis color-fg-on-emphasis show-on-focus js-skip-to-content\" data-skip-target-assigned=\"false\" href=\"#start-of-content\">Skip to content</a>"
      ]
     },
     "execution_count": 4,
     "metadata": {},
     "output_type": "execute_result"
    }
   ],
   "source": [
    "doc.find('a')"
   ]
  },
  {
   "cell_type": "markdown",
   "id": "35a98f4a",
   "metadata": {},
   "source": [
    "Let's create some helper functions to parse information from the page  \n",
    "\n",
    "To get topic titles, we can pick 'p' tags with the 'class'...\n",
    "\n",
    "\n",
    "![](https://i.imgur.com/OpkUytc.png)\n"
   ]
  },
  {
   "cell_type": "code",
   "execution_count": 5,
   "id": "e5f0d700",
   "metadata": {},
   "outputs": [],
   "source": [
    "def get_topic_titles(doc):\n",
    "    selection_class='f3 lh-condensed mb-0 mt-1 Link--primary'\n",
    "    p_tags=doc.find_all('p',{'class': selection_class})\n",
    "    topic_tittles=[]\n",
    "\n",
    "    for tag in p_tags:\n",
    "        topic_tittles.append(tag.text)\n",
    "    return topic_tittles"
   ]
  },
  {
   "cell_type": "markdown",
   "id": "23bc849b",
   "metadata": {},
   "source": [
    "get_topic_titles can be used to get the list of titles"
   ]
  },
  {
   "cell_type": "code",
   "execution_count": 8,
   "id": "b6a5cb12",
   "metadata": {},
   "outputs": [],
   "source": [
    "titles= get_topic_titles(doc)"
   ]
  },
  {
   "cell_type": "code",
   "execution_count": 9,
   "id": "a7ab126e",
   "metadata": {},
   "outputs": [
    {
     "data": {
      "text/plain": [
       "['3D',\n",
       " 'Ajax',\n",
       " 'Algorithm',\n",
       " 'Amp',\n",
       " 'Android',\n",
       " 'Angular',\n",
       " 'Ansible',\n",
       " 'API',\n",
       " 'Arduino',\n",
       " 'ASP.NET',\n",
       " 'Awesome Lists',\n",
       " 'Amazon Web Services',\n",
       " 'Azure',\n",
       " 'Babel',\n",
       " 'Bash',\n",
       " 'Bitcoin',\n",
       " 'Bootstrap',\n",
       " 'Bot',\n",
       " 'C',\n",
       " 'Chrome',\n",
       " 'Chrome extension',\n",
       " 'Command-line interface',\n",
       " 'Clojure',\n",
       " 'Code quality',\n",
       " 'Code review',\n",
       " 'Compiler',\n",
       " 'Continuous integration',\n",
       " 'C++',\n",
       " 'Cryptocurrency',\n",
       " 'Crystal']"
      ]
     },
     "execution_count": 9,
     "metadata": {},
     "output_type": "execute_result"
    }
   ],
   "source": [
    "titles"
   ]
  },
  {
   "cell_type": "markdown",
   "id": "f2d429f6",
   "metadata": {},
   "source": [
    "Similalry we have defined functions for descriptions and URLs"
   ]
  },
  {
   "cell_type": "code",
   "execution_count": 6,
   "id": "fd6b4918",
   "metadata": {},
   "outputs": [],
   "source": [
    "def get_topic_desc(doc):\n",
    "    description_class='f5 color-fg-muted mb-0 mt-1'\n",
    "    topic_disc_tags=doc.find_all('p',{'class': description_class})\n",
    "    topic_descriptions=[]\n",
    "\n",
    "    for tag in topic_disc_tags:\n",
    "        topic_descriptions.append(tag.text.strip())\n",
    "\n",
    "    return topic_descriptions"
   ]
  },
  {
   "cell_type": "code",
   "execution_count": 7,
   "id": "c76d0c74",
   "metadata": {},
   "outputs": [],
   "source": [
    "def get_topic_urls(doc):\n",
    "    topic_link_tags=doc.find_all('a',{'class': 'no-underline flex-grow-0'})\n",
    "    topic_urls=[]\n",
    "    first_url='https://github.com'\n",
    "\n",
    "    for tag in topic_link_tags:\n",
    "        topic_urls.append(first_url+tag['href'])\n",
    "    return topic_urls"
   ]
  },
  {
   "cell_type": "code",
   "execution_count": null,
   "id": "72b7956f",
   "metadata": {},
   "outputs": [],
   "source": []
  },
  {
   "cell_type": "markdown",
   "id": "59ff022f",
   "metadata": {},
   "source": [
    "Let's put this all together into a single function"
   ]
  },
  {
   "cell_type": "code",
   "execution_count": 10,
   "id": "329f37de",
   "metadata": {},
   "outputs": [],
   "source": [
    "def scrape_topics():\n",
    "    topics_url='https://github.com/topics'\n",
    "    response=requests.get(topics_url)\n",
    "    if response.status_code!=200:\n",
    "        raise Exception('Failed to load the page{}'.format(topic_url))\n",
    "    doc=BeautifulSoup(response.text,'html.parser')\n",
    "    topics_dict={\n",
    "        'tittle':get_topic_titles(doc),\n",
    "        'description':get_topic_desc(doc),\n",
    "        'url':get_topic_urls(doc)\n",
    "    }\n",
    "    return pd.DataFrame(topics_dict)"
   ]
  },
  {
   "cell_type": "code",
   "execution_count": 17,
   "id": "8fe1d93d",
   "metadata": {},
   "outputs": [],
   "source": [
    "import jovian"
   ]
  },
  {
   "cell_type": "code",
   "execution_count": 18,
   "id": "9482bec9",
   "metadata": {},
   "outputs": [
    {
     "data": {
      "application/javascript": [
       "window.require && require([\"base/js/namespace\"],function(Jupyter){Jupyter.notebook.save_checkpoint()})"
      ],
      "text/plain": [
       "<IPython.core.display.Javascript object>"
      ]
     },
     "metadata": {},
     "output_type": "display_data"
    },
    {
     "name": "stdout",
     "output_type": "stream",
     "text": [
      "[jovian] Committed successfully! https://jovian.com/anupritisurya/untitled2\u001b[0m\n"
     ]
    },
    {
     "data": {
      "text/plain": [
       "'https://jovian.com/anupritisurya/untitled2'"
      ]
     },
     "execution_count": 18,
     "metadata": {},
     "output_type": "execute_result"
    }
   ],
   "source": [
    "jovian.commit()"
   ]
  },
  {
   "cell_type": "markdown",
   "id": "f2a5876d",
   "metadata": {},
   "source": [
    "# Get the top 25 repositories from a topic page \n",
    "\n",
    "TODO- explain and step "
   ]
  },
  {
   "cell_type": "code",
   "execution_count": 11,
   "id": "0b4dcfad",
   "metadata": {},
   "outputs": [],
   "source": [
    "def get_topic_page(topic_url):\n",
    "#     download the page\n",
    "    response=requests.get(topic_url)\n",
    "#     check for the successful response\n",
    "    if response.status_code!=200:\n",
    "        raise Exception('Failed to load the page{}'.format(topic_url))\n",
    "#     parse using beautifulsoup\n",
    "    topic_doc=BeautifulSoup(response.text,'html.parser')\n",
    "    return topic_doc"
   ]
  },
  {
   "cell_type": "code",
   "execution_count": 12,
   "id": "ec3cc1a7",
   "metadata": {},
   "outputs": [],
   "source": [
    "doc=get_topic_page('https://github.com/topics/3d')"
   ]
  },
  {
   "cell_type": "markdown",
   "id": "8e0edca7",
   "metadata": {},
   "source": [
    "TODO- talk about the h1 tags"
   ]
  },
  {
   "cell_type": "code",
   "execution_count": 13,
   "id": "ddc9d0ac",
   "metadata": {},
   "outputs": [],
   "source": [
    "def get_repo_info(h3_tag,star_tag):\n",
    "#     returns all the required informatio about the repsitory\n",
    "    a_tags=h3_tag.find_all('a')\n",
    "    username=a_tags[0].text.strip()\n",
    "    repo_name=a_tags[1].text.strip()\n",
    "    repo_url=base_url+a_tags[1]['href']\n",
    "    stars=parse_star_count(star_tag.text.strip())\n",
    "    return username,repo_name,stars,repo_url"
   ]
  },
  {
   "cell_type": "code",
   "execution_count": 14,
   "id": "16cb85ff",
   "metadata": {},
   "outputs": [],
   "source": [
    "def get_topic_repos(topic_doc):\n",
    "#get the h1 tag containig repo title,repo url and username\n",
    "    h3_selection_class='f3 color-fg-muted text-normal lh-condensed'\n",
    "    repo_tags=topic_doc.find_all('h3',{'class':h3_selection_class})\n",
    "#     get the star tags\n",
    "    star_selection_class='Counter js-social-count'\n",
    "    star_tags=topic_doc.find_all('span',{'class':star_selection_class})\n",
    "    \n",
    "    topic_repos_dict={\n",
    "        \n",
    "        'username':[],\n",
    "        'repo_name':[],\n",
    "        'stars':[],\n",
    "        'repo_url':[]\n",
    "    }\n",
    "# get repo info\n",
    "    for i in range(len(repo_tags)):\n",
    "        repo_info=get_repo_info(repo_tags[i],star_tags[i])\n",
    "        topic_repos_dict['username'].append(repo_info[0])\n",
    "        topic_repos_dict['repo_name'].append(repo_info[1])\n",
    "        topic_repos_dict['stars'].append(repo_info[2])\n",
    "        topic_repos_dict['repo_url'].append(repo_info[3])\n",
    "        \n",
    "    return pd.DataFrame(topic_repos_dict)"
   ]
  },
  {
   "cell_type": "code",
   "execution_count": 16,
   "id": "f3b690c1",
   "metadata": {},
   "outputs": [],
   "source": [
    "def scrape_topic(topic_url,path):\n",
    "#     fname=topic_name+.'csv'\n",
    "#     when there are files which cannot be loaded \n",
    "#     if os.path.exists(fname):\n",
    "#     print(\"the file {} already exists. skipping...\".format(path))\n",
    "#     return \n",
    "    topic_df=get_topic_repos(get_topic_page(topic_url))\n",
    "    topic_df.to_csv(topic_name + '.csv',index=None)"
   ]
  },
  {
   "cell_type": "markdown",
   "id": "67bc5dff",
   "metadata": {},
   "source": [
    " # Putting it all together \n",
    " \n",
    " - we have a function to get the list of topics\n",
    " - we have a function to create a csv file for scraped repos from a topics page \n",
    " - lets create a function to put them together"
   ]
  },
  {
   "cell_type": "code",
   "execution_count": 19,
   "id": "f3d8dea2",
   "metadata": {},
   "outputs": [],
   "source": [
    "def scrape_topics_repos():\n",
    "    print('Scraping list of topics')\n",
    "    topics_df=scrape_topics()\n",
    "    \n",
    "# creating a file of all\n",
    "    os.makedirs('data',exist_ok=True)\n",
    "    for index, row in topics_df.iterrows():\n",
    "        print('Scraping top repositories for \"{}\"'.format(row['tittle']))\n",
    "        scrape_topic(row['url'], 'data/{}.csv'.format(row['tittle']))"
   ]
  },
  {
   "cell_type": "markdown",
   "id": "73759dd5",
   "metadata": {},
   "source": [
    "Let's run it to scrape the top repos for all the topics on the first page of https://github.com/topics"
   ]
  },
  {
   "cell_type": "markdown",
   "id": "84647579",
   "metadata": {},
   "source": [
    "we can check that the CSVs were created properly"
   ]
  },
  {
   "cell_type": "code",
   "execution_count": null,
   "id": "1b80547b",
   "metadata": {},
   "outputs": [],
   "source": [
    "scrape_topics_repos()"
   ]
  },
  {
   "cell_type": "code",
   "execution_count": 20,
   "id": "9e10ecf5",
   "metadata": {},
   "outputs": [],
   "source": [
    "# read and display a CSV using pandas "
   ]
  },
  {
   "cell_type": "code",
   "execution_count": 21,
   "id": "b40e9bea",
   "metadata": {},
   "outputs": [],
   "source": [
    "import jovian"
   ]
  },
  {
   "cell_type": "code",
   "execution_count": 22,
   "id": "91b6a124",
   "metadata": {},
   "outputs": [
    {
     "data": {
      "application/javascript": [
       "window.require && require([\"base/js/namespace\"],function(Jupyter){Jupyter.notebook.save_checkpoint()})"
      ],
      "text/plain": [
       "<IPython.core.display.Javascript object>"
      ]
     },
     "metadata": {},
     "output_type": "display_data"
    },
    {
     "name": "stdout",
     "output_type": "stream",
     "text": [
      "[jovian] Updating notebook \"anupritisurya/untitled2\" on https://jovian.com/\u001b[0m\n",
      "[jovian] Committed successfully! https://jovian.com/anupritisurya/untitled2\u001b[0m\n"
     ]
    },
    {
     "data": {
      "text/plain": [
       "'https://jovian.com/anupritisurya/untitled2'"
      ]
     },
     "execution_count": 22,
     "metadata": {},
     "output_type": "execute_result"
    }
   ],
   "source": [
    "jovian.commit()"
   ]
  },
  {
   "cell_type": "code",
   "execution_count": null,
   "id": "7118de0c",
   "metadata": {},
   "outputs": [],
   "source": []
  }
 ],
 "metadata": {
  "kernelspec": {
   "display_name": "Python 3 (ipykernel)",
   "language": "python",
   "name": "python3"
  },
  "language_info": {
   "codemirror_mode": {
    "name": "ipython",
    "version": 3
   },
   "file_extension": ".py",
   "mimetype": "text/x-python",
   "name": "python",
   "nbconvert_exporter": "python",
   "pygments_lexer": "ipython3",
   "version": "3.11.5"
  }
 },
 "nbformat": 4,
 "nbformat_minor": 5
}
